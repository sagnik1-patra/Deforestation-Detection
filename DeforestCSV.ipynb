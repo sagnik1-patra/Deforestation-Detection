{
 "cells": [
  {
   "cell_type": "code",
   "execution_count": 1,
   "id": "751606cf-0ddb-4274-b042-634af33e52c8",
   "metadata": {},
   "outputs": [
    {
     "name": "stdout",
     "output_type": "stream",
     "text": [
      "📦 Converting TIFF to CSV...\n"
     ]
    },
    {
     "name": "stderr",
     "output_type": "stream",
     "text": [
      "100%|██████████████████████████████████████████████████████████████████████████████████████████████████████████████████| 3340/3340 [07:57<00:00,  6.99it/s]\n"
     ]
    },
    {
     "name": "stdout",
     "output_type": "stream",
     "text": [
      "✅ CSV saved at: C:/Users/sagni/Downloads/Deforestation Detection/Western_Ghats_Forest_2023.csv\n"
     ]
    }
   ],
   "source": [
    "import rasterio\n",
    "import pandas as pd\n",
    "import numpy as np\n",
    "from rasterio.transform import xy\n",
    "from tqdm import tqdm\n",
    "\n",
    "# Load GeoTIFF image\n",
    "tif_path = \"C:/Users/sagni/Downloads/Deforestation Detection/Western_Ghats_Forest_2023.tif\"\n",
    "with rasterio.open(tif_path) as src:\n",
    "    img = src.read()  # shape: (bands, height, width)\n",
    "    transform = src.transform\n",
    "\n",
    "# Get shape\n",
    "bands, height, width = img.shape\n",
    "\n",
    "# Prepare empty list to collect rows\n",
    "data = []\n",
    "\n",
    "print(\"📦 Converting TIFF to CSV...\")\n",
    "\n",
    "for row in tqdm(range(height)):\n",
    "    for col in range(width):\n",
    "        pixel_values = img[:, row, col]\n",
    "        x, y = xy(transform, row, col)\n",
    "        data.append({\n",
    "            'longitude': x,\n",
    "            'latitude': y,\n",
    "            'red': pixel_values[0],\n",
    "            'green': pixel_values[1] if bands > 1 else 0,\n",
    "            'blue': pixel_values[2] if bands > 2 else 0\n",
    "        })\n",
    "\n",
    "# Convert to DataFrame\n",
    "df = pd.DataFrame(data)\n",
    "\n",
    "# Save to CSV\n",
    "csv_path = \"C:/Users/sagni/Downloads/Deforestation Detection/Western_Ghats_Forest_2023.csv\"\n",
    "df.to_csv(csv_path, index=False)\n",
    "\n",
    "print(f\"✅ CSV saved at: {csv_path}\")\n"
   ]
  },
  {
   "cell_type": "code",
   "execution_count": null,
   "id": "cded200e-3886-41ca-aa44-16c83f382ffb",
   "metadata": {},
   "outputs": [],
   "source": []
  }
 ],
 "metadata": {
  "kernelspec": {
   "display_name": "Python 3.11 (moviepy)",
   "language": "python",
   "name": "py311"
  },
  "language_info": {
   "codemirror_mode": {
    "name": "ipython",
    "version": 3
   },
   "file_extension": ".py",
   "mimetype": "text/x-python",
   "name": "python",
   "nbconvert_exporter": "python",
   "pygments_lexer": "ipython3",
   "version": "3.11.9"
  }
 },
 "nbformat": 4,
 "nbformat_minor": 5
}
